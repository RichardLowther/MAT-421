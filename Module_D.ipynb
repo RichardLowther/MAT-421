{
  "nbformat": 4,
  "nbformat_minor": 0,
  "metadata": {
    "colab": {
      "provenance": [],
      "authorship_tag": "ABX9TyOOg6Yb4TuCD4exMHIsK2jH",
      "include_colab_link": true
    },
    "kernelspec": {
      "name": "python3",
      "display_name": "Python 3"
    },
    "language_info": {
      "name": "python"
    }
  },
  "cells": [
    {
      "cell_type": "markdown",
      "metadata": {
        "id": "view-in-github",
        "colab_type": "text"
      },
      "source": [
        "<a href=\"https://colab.research.google.com/github/RichardLowther/MAT-421/blob/main/Module_D.ipynb\" target=\"_parent\"><img src=\"https://colab.research.google.com/assets/colab-badge.svg\" alt=\"Open In Colab\"/></a>"
      ]
    },
    {
      "cell_type": "markdown",
      "source": [
        "Richard Lowther\n",
        "\n",
        "MAT 421 HW 5\n",
        "\n",
        "Chapter 1\n",
        "\n",
        "Linear Spaces and Combinations"
      ],
      "metadata": {
        "id": "7mUrQ3XgPfZ5"
      }
    },
    {
      "cell_type": "code",
      "source": [
        "# Can only add and subtract matrices with the same dimension\n",
        "\n",
        "import numpy as np\n",
        "\n",
        "a = [1, 2, 3]\n",
        "b = [4, 5, 6]\n",
        "print ('a + b =', np.add(a,b))\n",
        "print ('a - b =', np.subtract(a,b))\n",
        "\n",
        "# You can also multiply matrices only if the number of columns in the first matrix is equal to the number of rows in the second matrix\n",
        "# The result is a matrix with the number of rows in the first matrix and the number of columns in the second\n",
        "print ('a * b =', np.multiply(a,b))"
      ],
      "metadata": {
        "colab": {
          "base_uri": "https://localhost:8080/"
        },
        "id": "TNyC_AZWPyVK",
        "outputId": "9699ddbe-54d5-4a08-85a8-985ab15fc27f"
      },
      "execution_count": 14,
      "outputs": [
        {
          "output_type": "stream",
          "name": "stdout",
          "text": [
            "a + b = [5 7 9]\n",
            "a - b = [-3 -3 -3]\n",
            "a * b = [ 4 10 18]\n"
          ]
        }
      ]
    },
    {
      "cell_type": "code",
      "source": [
        "# Linear independence can be determined by taking the determinant of the matrix and seeing if it is a nonzero value\n",
        "# Det = 0, not linearly independent\n",
        "\n",
        "a = np.array([[8, -9, 0], [4, 1, 21], [17, -1, 12]])\n",
        "print(np.linalg.det(a))\n",
        "\n",
        "b = np.array([[0, 0, 1], [4, 1, 1], [0, 0, 0]])\n",
        "print(np.linalg.det(b))\n"
      ],
      "metadata": {
        "colab": {
          "base_uri": "https://localhost:8080/"
        },
        "id": "JBVAH1ZOUt4B",
        "outputId": "71a79fc3-114e-483f-c870-cbff5ca73e69"
      },
      "execution_count": 17,
      "outputs": [
        {
          "output_type": "stream",
          "name": "stdout",
          "text": [
            "-2517.0\n",
            "0.0\n"
          ]
        }
      ]
    },
    {
      "cell_type": "code",
      "source": [
        "# Matrices and linear equations can be solved using python\n",
        "# 50x + 20y + 17z = 23\n",
        "# 00x + 13y + 80z = 10\n",
        "# 08x + 08y + 10z = 00\n",
        "\n",
        "# Note the equation A*x = y, where x will signify the values of x, y, and z\n",
        "\n",
        "import numpy as np\n",
        "\n",
        "A = np.array([[50, 20, 17],\n",
        "              [0, 13, 80],\n",
        "              [8, 8, 10]])\n",
        "y = np.array([23, 10, 0])\n",
        "\n",
        "x = np.linalg.solve(A, y)\n",
        "\n",
        "print(x)\n",
        "\n",
        "# Matrix inversion approach (x = (A^-1)*y) should provide the same value\n",
        "\n",
        "A_inv = np.linalg.inv(A)\n",
        "\n",
        "x = np.dot(A_inv, y)\n",
        "print(x)\n",
        "\n",
        "# Can decompose matrix A into L and U\n",
        "\n",
        "from scipy.linalg import lu\n",
        "\n",
        "P, L, U = lu(A)\n",
        "print('P:\\n', P)\n",
        "print('L:\\n', L)\n",
        "print('U:\\n', U)\n",
        "print('LU:\\n',np.dot(L, U))\n"
      ],
      "metadata": {
        "colab": {
          "base_uri": "https://localhost:8080/"
        },
        "id": "2Dm7yZYodl1I",
        "outputId": "6f6f0de4-e466-4328-a1ee-5c4727e23d34"
      },
      "execution_count": 3,
      "outputs": [
        {
          "output_type": "stream",
          "name": "stdout",
          "text": [
            "[ 0.85499032 -1.26900746  0.33121371]\n",
            "[ 0.85499032 -1.26900746  0.33121371]\n",
            "P:\n",
            " [[1. 0. 0.]\n",
            " [0. 1. 0.]\n",
            " [0. 0. 1.]]\n",
            "L:\n",
            " [[1.         0.         0.        ]\n",
            " [0.         1.         0.        ]\n",
            " [0.16       0.36923077 1.        ]]\n",
            "U:\n",
            " [[ 50.          20.          17.        ]\n",
            " [  0.          13.          80.        ]\n",
            " [  0.           0.         -22.25846154]]\n",
            "LU:\n",
            " [[50. 20. 17.]\n",
            " [ 0. 13. 80.]\n",
            " [ 8.  8. 10.]]\n"
          ]
        }
      ]
    },
    {
      "cell_type": "markdown",
      "source": [
        "Eigenvalues and Eigenvectors"
      ],
      "metadata": {
        "id": "U-rcCYdSoR5K"
      }
    },
    {
      "cell_type": "code",
      "source": [
        "# A*x = λ*x, Where A is n × n matrix, x is an n × 1 column vector (X≠0), and λ (eigenvalue) is some scalar.\n",
        "# The associated vector x is called an eigenvector corresponding to λ\n",
        "# We can use python to produce the eigenvalue/vector\n",
        "\n",
        "import numpy as np\n",
        "from numpy.linalg import eig\n",
        "a = np.array([[11, 32],\n",
        "              [17, 9]])\n",
        "lmda,x = eig(a)\n",
        "print('E-value:', lmda)\n",
        "print('E-vector', x)"
      ],
      "metadata": {
        "colab": {
          "base_uri": "https://localhost:8080/"
        },
        "id": "mAHK26AMoQ65",
        "outputId": "124a76e1-b6b8-46f7-fdb0-706582395659"
      },
      "execution_count": 7,
      "outputs": [
        {
          "output_type": "stream",
          "name": "stdout",
          "text": [
            "E-value: [ 33.34523506 -13.34523506]\n",
            "E-vector [[ 0.81989058 -0.79585975]\n",
            " [ 0.57252024  0.60548102]]\n"
          ]
        }
      ]
    },
    {
      "cell_type": "markdown",
      "source": [
        "Orthogonality"
      ],
      "metadata": {
        "id": "kNPsh_whNtz6"
      }
    },
    {
      "cell_type": "code",
      "source": [
        "# If the angle between the two vectors is pi/2, the vectors are orthogonal\n",
        "\n",
        "from numpy import arccos, dot\n",
        "from numpy.linalg import norm\n",
        "\n",
        "a = np.array([[117, 21, 6]])\n",
        "b = np.array([[22, 11, 42]])\n",
        "theta = arccos(dot(v, w.T)/(norm(v)*norm(w)))\n",
        "print(theta)"
      ],
      "metadata": {
        "colab": {
          "base_uri": "https://localhost:8080/"
        },
        "id": "KaDVszsJNtpI",
        "outputId": "61dd483d-8de9-43ca-a2c6-5669c715c6ae"
      },
      "execution_count": 21,
      "outputs": [
        {
          "output_type": "stream",
          "name": "stdout",
          "text": [
            "[[1.0149026]]\n"
          ]
        }
      ]
    },
    {
      "cell_type": "markdown",
      "source": [
        "Linear Regression"
      ],
      "metadata": {
        "id": "nyJMWSuoXb-M"
      }
    },
    {
      "cell_type": "code",
      "source": [
        "# Least Squares Regression, find the parameters of the estimation function that minimizes the total squared error\n",
        "\n",
        "from scipy import optimize\n",
        "import matplotlib.pyplot as plt\n",
        "\n",
        "# generate x and y\n",
        "x = np.linspace(0, 1, 101)\n",
        "y = 1 + x + x * np.random.random(len(x))\n",
        "\n",
        "# assemble matrix A\n",
        "A = np.vstack([x, np.ones(len(x))]).T\n",
        "\n",
        "# turn y into a column vector\n",
        "y = y[:, np.newaxis]\n",
        "\n",
        "# Direct least square regression\n",
        "alpha = np.dot((np.dot(np.linalg.inv(np.dot(A.T,A)),A.T)),y)\n",
        "\n",
        "# plot the results\n",
        "plt.figure(figsize = (10,8))\n",
        "plt.plot(x, y, 'b.')\n",
        "plt.plot(x, alpha[0]*x + alpha[1], 'r')\n",
        "plt.xlabel('x')\n",
        "plt.ylabel('y')\n",
        "plt.show()"
      ],
      "metadata": {
        "colab": {
          "base_uri": "https://localhost:8080/",
          "height": 696
        },
        "id": "K-tIWdE_Xee-",
        "outputId": "007ef9b5-b4e5-40b5-e26f-8274b5ea1404"
      },
      "execution_count": 27,
      "outputs": [
        {
          "output_type": "display_data",
          "data": {
            "text/plain": [
              "<Figure size 1000x800 with 1 Axes>"
            ],
            "image/png": "[encoded data removed]"
          },
          "metadata": {}
        }
      ]
    }
  ]
}