{
  "nbformat": 4,
  "nbformat_minor": 0,
  "metadata": {
    "colab": {
      "provenance": [],
      "authorship_tag": "ABX9TyO8JqAEANae5MwxqtuBULja",
      "include_colab_link": true
    },
    "kernelspec": {
      "name": "python3",
      "display_name": "Python 3"
    },
    "language_info": {
      "name": "python"
    }
  },
  "cells": [
    {
      "cell_type": "markdown",
      "metadata": {
        "id": "view-in-github",
        "colab_type": "text"
      },
      "source": [
        "<a href=\"https://colab.research.google.com/github/RichardLowther/MAT-421/blob/main/Module_C.ipynb\" target=\"_parent\"><img src=\"https://colab.research.google.com/assets/colab-badge.svg\" alt=\"Open In Colab\"/></a>"
      ]
    },
    {
      "cell_type": "markdown",
      "source": [
        "Richard Lowther\n",
        "\n",
        "MAT 421 HW 4\n",
        "\n",
        "Chapter 19\n",
        "\n",
        "19.1 Root Finding Problem Statement"
      ],
      "metadata": {
        "id": "HdXsDu2AcM4y"
      }
    },
    {
      "cell_type": "code",
      "source": [
        "# fsolve can find the root of a difficult equation when given an estimate (3)\n",
        "# Difficulties may occur when the root is not known\n",
        "\n",
        "import numpy as np\n",
        "from scipy import optimize\n",
        "\n",
        "f = lambda x: (x**2) * np.exp(x) - (19*x**2) + np.log(x) + np.cos(x)\n",
        "r = optimize.fsolve(f, 3)\n",
        "print(\"r =\", r)\n",
        "\n",
        "# Plug the root back into the function to see if the value is approximately 0\n",
        "result = f(r)\n",
        "print(\"result=\", result)"
      ],
      "metadata": {
        "colab": {
          "base_uri": "https://localhost:8080/"
        },
        "id": "QMBtlPV-cTd5",
        "outputId": "18a51f44-26af-4383-8c85-9ab09d664f57"
      },
      "execution_count": null,
      "outputs": [
        {
          "output_type": "stream",
          "name": "stdout",
          "text": [
            "r = [2.94383631]\n",
            "result= [9.99200722e-16]\n"
          ]
        }
      ]
    },
    {
      "cell_type": "code",
      "source": [
        "# fsolve trying to rootfind an equation with no roots, as shown by the error message. without full_output = True, the code would simply not work\n",
        "\n",
        "f = lambda x: 1/x**2\n",
        "\n",
        "r, infodict, ier, mesg = optimize.fsolve(f, -1, full_output=True)\n",
        "print(\"r =\", r)\n",
        "\n",
        "result = f(r)\n",
        "print(\"result=\", result)\n",
        "print(mesg)"
      ],
      "metadata": {
        "colab": {
          "base_uri": "https://localhost:8080/"
        },
        "id": "5BJNf6nOF3e1",
        "outputId": "27c414c0-fcd6-4734-cb4c-e3eba2025513"
      },
      "execution_count": null,
      "outputs": [
        {
          "output_type": "stream",
          "name": "stdout",
          "text": [
            "r = [-4.41758526e+48]\n",
            "result= [5.12424776e-98]\n",
            "The number of calls to function has reached maxfev = 400.\n"
          ]
        }
      ]
    },
    {
      "cell_type": "markdown",
      "source": [
        "19.2 Tolerance"
      ],
      "metadata": {
        "id": "HJ3FNpi7Gtwq"
      }
    },
    {
      "cell_type": "code",
      "source": [
        "# isclose is a function that allows the user to provide a tolerance\n",
        "import math\n",
        "\n",
        "# rel_tol is the %/100\n",
        "print(math.isclose(100, 104, rel_tol = 0.05))\n",
        "# abs_tol is a given value\n",
        "print(math.isclose(100, 101.4, abs_tol = 1.5))\n",
        "# the default tolerance is an abs_tol = 0.0000001\n",
        "print(math.isclose(200, 200.0000001))\n",
        "print(math.isclose(100, 100.0000001))"
      ],
      "metadata": {
        "colab": {
          "base_uri": "https://localhost:8080/"
        },
        "id": "w0CtFIGLGxOB",
        "outputId": "e1db39bd-5650-49b2-d5a0-53c77f2b42e9"
      },
      "execution_count": null,
      "outputs": [
        {
          "output_type": "stream",
          "name": "stdout",
          "text": [
            "True\n",
            "True\n",
            "True\n",
            "True\n"
          ]
        }
      ]
    },
    {
      "cell_type": "markdown",
      "source": [
        "19.3 Bisection Method"
      ],
      "metadata": {
        "id": "9clOcNI2DwH5"
      }
    },
    {
      "cell_type": "code",
      "source": [
        "# Iteratively hones in on a zero by having two values on either side of the zero close in on it. It checks each time that the values are different signs\n",
        "\n",
        "import numpy as np\n",
        "\n",
        "def my_bisection(f, a, b, tol):\n",
        "    # approximates a root, R, of f bounded\n",
        "    # by a and b to within tolerance\n",
        "    # | f(m) | < tol with m the midpoint\n",
        "    # between a and b Recursive implementation\n",
        "\n",
        "    # check if a and b bound a root\n",
        "    if np.sign(f(a)) == np.sign(f(b)):\n",
        "        raise Exception(\"The scalars a and b do not bound a root\")\n",
        "\n",
        "    # get midpoint\n",
        "    m = (a + b)/2\n",
        "\n",
        "    if np.abs(f(m)) < tol:\n",
        "        # stopping condition, report m as root\n",
        "        return m\n",
        "    elif np.sign(f(a)) == np.sign(f(m)):\n",
        "        # case where m is an improvement on a.\n",
        "        # Make recursive call with a = m\n",
        "        return my_bisection(f, m, b, tol)\n",
        "    elif np.sign(f(b)) == np.sign(f(m)):\n",
        "        # case where m is an improvement on b.\n",
        "        # Make recursive call with b = m\n",
        "        return my_bisection(f, a, m, tol)\n",
        "\n",
        "\n",
        "f = lambda x: x**2 - 2\n",
        "\n",
        "r1 = my_bisection(f, 0, 2, 0.1)\n",
        "print(\"r1 =\", r1)\n",
        "# higher tolerance\n",
        "r01 = my_bisection(f, 0, 2, 0.01)\n",
        "print(\"r01 =\", r01)\n",
        "\n",
        "# verify the value is a root\n",
        "print(\"f(r1) =\", f(r1))\n",
        "print(\"f(r01) =\", f(r01))"
      ],
      "metadata": {
        "colab": {
          "base_uri": "https://localhost:8080/"
        },
        "id": "5CFo2E8dHGpu",
        "outputId": "241c71b0-a61b-416c-b295-c738647da941"
      },
      "execution_count": null,
      "outputs": [
        {
          "output_type": "stream",
          "name": "stdout",
          "text": [
            "r1 = 1.4375\n",
            "r01 = 1.4140625\n",
            "f(r1) = 0.06640625\n",
            "f(r01) = -0.00042724609375\n"
          ]
        }
      ]
    },
    {
      "cell_type": "code",
      "source": [
        "# The two chosen values MUST bind a root, otherwise the code will fail\n",
        "\n",
        "my_bisection(f, 2, 4, 0.01)"
      ],
      "metadata": {
        "colab": {
          "base_uri": "https://localhost:8080/",
          "height": 311
        },
        "id": "tyISqLbILg0r",
        "outputId": "c535d04b-982c-4b45-ae34-6e279bacc8a1"
      },
      "execution_count": null,
      "outputs": [
        {
          "output_type": "error",
          "ename": "Exception",
          "evalue": "The scalars a and b do not bound a root",
          "traceback": [
            "\u001b[0;31m---------------------------------------------------------------------------\u001b[0m",
            "\u001b[0;31mException\u001b[0m                                 Traceback (most recent call last)",
            "\u001b[0;32m<ipython-input-17-2c2b9f30dde5>\u001b[0m in \u001b[0;36m<cell line: 0>\u001b[0;34m()\u001b[0m\n\u001b[1;32m      1\u001b[0m \u001b[0;31m# The two chosen values MUST bind a root, otherwise the code will fail\u001b[0m\u001b[0;34m\u001b[0m\u001b[0;34m\u001b[0m\u001b[0m\n\u001b[1;32m      2\u001b[0m \u001b[0;34m\u001b[0m\u001b[0m\n\u001b[0;32m----> 3\u001b[0;31m \u001b[0mmy_bisection\u001b[0m\u001b[0;34m(\u001b[0m\u001b[0mf\u001b[0m\u001b[0;34m,\u001b[0m \u001b[0;36m2\u001b[0m\u001b[0;34m,\u001b[0m \u001b[0;36m4\u001b[0m\u001b[0;34m,\u001b[0m \u001b[0;36m0.01\u001b[0m\u001b[0;34m)\u001b[0m\u001b[0;34m\u001b[0m\u001b[0;34m\u001b[0m\u001b[0m\n\u001b[0m",
            "\u001b[0;32m<ipython-input-15-07cf032efd95>\u001b[0m in \u001b[0;36mmy_bisection\u001b[0;34m(f, a, b, tol)\u001b[0m\n\u001b[1;32m      9\u001b[0m     \u001b[0;31m# check if a and b bound a root\u001b[0m\u001b[0;34m\u001b[0m\u001b[0;34m\u001b[0m\u001b[0m\n\u001b[1;32m     10\u001b[0m     \u001b[0;32mif\u001b[0m \u001b[0mnp\u001b[0m\u001b[0;34m.\u001b[0m\u001b[0msign\u001b[0m\u001b[0;34m(\u001b[0m\u001b[0mf\u001b[0m\u001b[0;34m(\u001b[0m\u001b[0ma\u001b[0m\u001b[0;34m)\u001b[0m\u001b[0;34m)\u001b[0m \u001b[0;34m==\u001b[0m \u001b[0mnp\u001b[0m\u001b[0;34m.\u001b[0m\u001b[0msign\u001b[0m\u001b[0;34m(\u001b[0m\u001b[0mf\u001b[0m\u001b[0;34m(\u001b[0m\u001b[0mb\u001b[0m\u001b[0;34m)\u001b[0m\u001b[0;34m)\u001b[0m\u001b[0;34m:\u001b[0m\u001b[0;34m\u001b[0m\u001b[0;34m\u001b[0m\u001b[0m\n\u001b[0;32m---> 11\u001b[0;31m         \u001b[0;32mraise\u001b[0m \u001b[0mException\u001b[0m\u001b[0;34m(\u001b[0m\u001b[0;34m\"The scalars a and b do not bound a root\"\u001b[0m\u001b[0;34m)\u001b[0m\u001b[0;34m\u001b[0m\u001b[0;34m\u001b[0m\u001b[0m\n\u001b[0m\u001b[1;32m     12\u001b[0m \u001b[0;34m\u001b[0m\u001b[0m\n\u001b[1;32m     13\u001b[0m     \u001b[0;31m# get midpoint\u001b[0m\u001b[0;34m\u001b[0m\u001b[0;34m\u001b[0m\u001b[0m\n",
            "\u001b[0;31mException\u001b[0m: The scalars a and b do not bound a root"
          ]
        }
      ]
    },
    {
      "cell_type": "markdown",
      "source": [
        "19.4 Newton-Raphson Method"
      ],
      "metadata": {
        "id": "AJFLAEPvLxgW"
      }
    },
    {
      "cell_type": "code",
      "source": [
        "# Uses a previous guess, or an initial guess for the equation and its derivative and iterates upon that until the error is lower than the tolerance\n",
        "# May not function if the initial guess is too far from the root\n",
        "\n",
        "import numpy as np\n",
        "import math\n",
        "\n",
        "f = lambda x: math.exp(0.5*x) - 6\n",
        "f_prime = lambda x: 0.5*math.exp(0.5*x)\n",
        "\n",
        "def my_newton(f, df, x0, tol):\n",
        "    # output is an estimation of the root of f\n",
        "    # using the Newton Raphson method\n",
        "    # recursive implementation\n",
        "    if abs(f(x0)) < tol:\n",
        "        return x0\n",
        "    else:\n",
        "        return my_newton(f, df, x0 - f(x0)/df(x0), tol)\n",
        "\n",
        "estimate = my_newton(f, f_prime, 5, 1e-6)\n",
        "print(\"estimate =\", estimate)\n",
        "print(\"error =\", math.exp(0.5*estimate)-6)"
      ],
      "metadata": {
        "id": "hBWE_AmVLyuT",
        "colab": {
          "base_uri": "https://localhost:8080/"
        },
        "outputId": "71a2dbf8-2270-4e91-c041-22504171087c"
      },
      "execution_count": 5,
      "outputs": [
        {
          "output_type": "stream",
          "name": "stdout",
          "text": [
            "estimate = 3.5835189697366765\n",
            "different = 9.384170063242436e-08\n"
          ]
        }
      ]
    },
    {
      "cell_type": "markdown",
      "source": [
        "19.5 Root Finding in Python"
      ],
      "metadata": {
        "id": "kaV8Gtk5fhDE"
      }
    },
    {
      "cell_type": "code",
      "source": [
        "# fsolve can find multiple roots for an equation given initial guesses\n",
        "\n",
        "from scipy.optimize import fsolve\n",
        "import math\n",
        "\n",
        "f = lambda x: 12*x**3 - 100*x**8 + 1\n",
        "fsolve(f, [-0.4,0.7])"
      ],
      "metadata": {
        "colab": {
          "base_uri": "https://localhost:8080/"
        },
        "id": "ex4xHPWVflDS",
        "outputId": "feb3a806-9b84-4fef-8fd5-2c4bcea1a71f"
      },
      "execution_count": 19,
      "outputs": [
        {
          "output_type": "execute_result",
          "data": {
            "text/plain": [
              "array([-0.4217118 ,  0.68523763])"
            ]
          },
          "metadata": {},
          "execution_count": 19
        }
      ]
    }
  ]
}