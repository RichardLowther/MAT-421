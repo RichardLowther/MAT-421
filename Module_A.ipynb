{
  "nbformat": 4,
  "nbformat_minor": 0,
  "metadata": {
    "colab": {
      "provenance": [],
      "authorship_tag": "ABX9TyPFPTQixFVV93SAZH2Dd8qk",
      "include_colab_link": true
    },
    "kernelspec": {
      "name": "python3",
      "display_name": "Python 3"
    },
    "language_info": {
      "name": "python"
    }
  },
  "cells": [
    {
      "cell_type": "markdown",
      "metadata": {
        "id": "view-in-github",
        "colab_type": "text"
      },
      "source": [
        "<a href=\"https://colab.research.google.com/github/RichardLowther/MAT-421/blob/main/Module_A.ipynb\" target=\"_parent\"><img src=\"https://colab.research.google.com/assets/colab-badge.svg\" alt=\"Open In Colab\"/></a>"
      ]
    },
    {
      "cell_type": "markdown",
      "source": [
        "Richard Lowther\n",
        "\n",
        "MAT 421 HW 1\n",
        "\n",
        "Chapter 9\n",
        "\n",
        "9.1 Base N and Binary"
      ],
      "metadata": {
        "id": "dHPRFvEajH9X"
      }
    },
    {
      "cell_type": "code",
      "execution_count": 46,
      "metadata": {
        "colab": {
          "base_uri": "https://localhost:8080/"
        },
        "id": "NHfyK104ZjIv",
        "outputId": "487e95bf-fe5a-4049-e068-ce8823ee48f0"
      },
      "outputs": [
        {
          "output_type": "execute_result",
          "data": {
            "text/plain": [
              "True"
            ]
          },
          "metadata": {},
          "execution_count": 46
        }
      ],
      "source": [
        "# Verifying/Decomposing  111 (base 10)\n",
        "123 == (1*10**2) + (2*10**1) + (3*10**0)"
      ]
    },
    {
      "cell_type": "code",
      "source": [
        "# Converting 30 and 100 (base 10) to binary\n",
        "a = bin(30)\n",
        "b = bin(100)\n",
        "print(a)\n",
        "print(b)\n",
        "# Adding 64 and 640 (base 10) in binary\n",
        "c = bin(int(a,2)+int(b,2))\n",
        "# Binary\n",
        "print(c)\n",
        "# Base 10\n",
        "d = int(c,2)\n",
        "print(d)"
      ],
      "metadata": {
        "colab": {
          "base_uri": "https://localhost:8080/"
        },
        "id": "WiH90y5lCxs8",
        "outputId": "ff9d21c4-b4be-4d22-87a1-15e787193711"
      },
      "execution_count": 47,
      "outputs": [
        {
          "output_type": "stream",
          "name": "stdout",
          "text": [
            "0b11110\n",
            "0b1100100\n",
            "0b10000010\n",
            "130\n"
          ]
        }
      ]
    },
    {
      "cell_type": "code",
      "source": [
        "# Multiplying 30 and 100 (base 10) in binary\n",
        "a = bin(30)\n",
        "b = bin(100)\n",
        "# Adding 64 and 640 (base 10) in binary\n",
        "c = bin(int(a,2)*int(b,2))\n",
        "# Binary\n",
        "print(c)\n",
        "# Base 10\n",
        "d = int(c,2)\n",
        "print(d)"
      ],
      "metadata": {
        "colab": {
          "base_uri": "https://localhost:8080/"
        },
        "id": "fUAEKNT8WQfs",
        "outputId": "5875c737-7279-476f-e48b-06388e44f32f"
      },
      "execution_count": 48,
      "outputs": [
        {
          "output_type": "stream",
          "name": "stdout",
          "text": [
            "0b101110111000\n",
            "3000\n"
          ]
        }
      ]
    },
    {
      "cell_type": "markdown",
      "source": [
        "9.2 Floating Point Numbers\n",
        "\n",
        "For IEE754 (64 bit)\n",
        "\n",
        "n = [((-1)^s) * (2^(e - 1023)) * (1 + f)]"
      ],
      "metadata": {
        "id": "LgUWb3S3c4BW"
      }
    },
    {
      "cell_type": "code",
      "source": [
        "# Verify IEE754 to base 10\n",
        "# 1 10000000011 0100000000000000000000000000000000000000000000000000 = -20\n",
        "-20 == (-1)**1 * (2**((1*2**10 + 1*2**1 + 1*2**0) - 1023)) * (1 + 1*2**-2)"
      ],
      "metadata": {
        "colab": {
          "base_uri": "https://localhost:8080/"
        },
        "id": "ppJkLyXRdcyy",
        "outputId": "6a95beb4-359a-4186-d382-5542a45b7dab"
      },
      "execution_count": 49,
      "outputs": [
        {
          "output_type": "execute_result",
          "data": {
            "text/plain": [
              "True"
            ]
          },
          "metadata": {},
          "execution_count": 49
        }
      ]
    },
    {
      "cell_type": "code",
      "source": [
        "# Code for floats\n",
        "import sys\n",
        "sys.float_info"
      ],
      "metadata": {
        "colab": {
          "base_uri": "https://localhost:8080/"
        },
        "id": "1i80dZ11hEEj",
        "outputId": "9f606cbd-2d08-4ae8-d010-cd7db8454b9c"
      },
      "execution_count": 50,
      "outputs": [
        {
          "output_type": "execute_result",
          "data": {
            "text/plain": [
              "sys.float_info(max=1.7976931348623157e+308, max_exp=1024, max_10_exp=308, min=2.2250738585072014e-308, min_exp=-1021, min_10_exp=-307, dig=15, mant_dig=53, epsilon=2.220446049250313e-16, radix=2, rounds=1)"
            ]
          },
          "metadata": {},
          "execution_count": 50
        }
      ]
    },
    {
      "cell_type": "code",
      "source": [
        "# Determining the gap at 1e9. Adding a number to 1e9 that is less than half the gap at 1e9 results in the same number.\n",
        "import numpy as np\n",
        "np.spacing(1e9)\n",
        "1e9 == (1e9 + np.spacing(1e9)/3)"
      ],
      "metadata": {
        "colab": {
          "base_uri": "https://localhost:8080/"
        },
        "id": "7IsKaWuBhg5U",
        "outputId": "9f64557f-773a-4b1c-9b8f-1356dcbbbb89"
      },
      "execution_count": 51,
      "outputs": [
        {
          "output_type": "execute_result",
          "data": {
            "text/plain": [
              "True"
            ]
          },
          "metadata": {},
          "execution_count": 51
        }
      ]
    },
    {
      "cell_type": "code",
      "source": [
        "# Over/Underflow\n",
        "\n",
        "print(1.88e308)\n",
        "print(1e-10000)"
      ],
      "metadata": {
        "colab": {
          "base_uri": "https://localhost:8080/"
        },
        "id": "GJEvBZeNi5K3",
        "outputId": "361eb67b-abf6-47a0-b826-63ea0297ff3c"
      },
      "execution_count": 52,
      "outputs": [
        {
          "output_type": "stream",
          "name": "stdout",
          "text": [
            "inf\n",
            "0.0\n"
          ]
        }
      ]
    },
    {
      "cell_type": "markdown",
      "source": [
        "9.3 Round-Off Errors"
      ],
      "metadata": {
        "id": "CxyGZ8SvmKUk"
      }
    },
    {
      "cell_type": "code",
      "source": [
        "# Example of floating point error\n",
        "difference = 1.105-1.002\n",
        "print(difference)\n",
        "difference == 0.103"
      ],
      "metadata": {
        "colab": {
          "base_uri": "https://localhost:8080/"
        },
        "id": "IRRXxu8FnxA4",
        "outputId": "72159bf7-7093-4095-a940-8b9402df4aec"
      },
      "execution_count": 53,
      "outputs": [
        {
          "output_type": "stream",
          "name": "stdout",
          "text": [
            "0.10299999999999998\n"
          ]
        },
        {
          "output_type": "execute_result",
          "data": {
            "text/plain": [
              "False"
            ]
          },
          "metadata": {},
          "execution_count": 53
        }
      ]
    },
    {
      "cell_type": "code",
      "source": [
        "# Round function works around this error given you specify the amount of decimals\n",
        "difference = round(1.105-1.002,3)\n",
        "print(difference)\n",
        "difference == 0.103"
      ],
      "metadata": {
        "colab": {
          "base_uri": "https://localhost:8080/"
        },
        "id": "ziNCMhDeoMJ7",
        "outputId": "dcc6adc1-c561-49fe-b47c-cde8e56581d0"
      },
      "execution_count": 54,
      "outputs": [
        {
          "output_type": "stream",
          "name": "stdout",
          "text": [
            "0.103\n"
          ]
        },
        {
          "output_type": "execute_result",
          "data": {
            "text/plain": [
              "True"
            ]
          },
          "metadata": {},
          "execution_count": 54
        }
      ]
    },
    {
      "cell_type": "code",
      "source": [
        "# Roundoff errors can compound after multiple steps\n",
        "value_to_add = 0.37\n",
        "total = 0\n",
        "\n",
        "for _ in range(1000):\n",
        "    total += value_to_add\n",
        "\n",
        "print(total)\n",
        "total == 370"
      ],
      "metadata": {
        "colab": {
          "base_uri": "https://localhost:8080/"
        },
        "id": "cYkdwJ8dxCBn",
        "outputId": "33ec78d0-7d24-400b-ea4b-4404394050dc"
      },
      "execution_count": 55,
      "outputs": [
        {
          "output_type": "stream",
          "name": "stdout",
          "text": [
            "370.0000000000035\n"
          ]
        },
        {
          "output_type": "execute_result",
          "data": {
            "text/plain": [
              "False"
            ]
          },
          "metadata": {},
          "execution_count": 55
        }
      ]
    },
    {
      "cell_type": "code",
      "source": [
        "# This error increases as the amount of steps increase\n",
        "value_to_add = 0.37\n",
        "total = 0\n",
        "\n",
        "for _ in range(2000):\n",
        "    total += value_to_add\n",
        "\n",
        "print(total)\n",
        "total == 370"
      ],
      "metadata": {
        "colab": {
          "base_uri": "https://localhost:8080/"
        },
        "id": "_djyxQ9f0i7B",
        "outputId": "7ea1e139-0aab-48a2-c945-48dd1f3c7a19"
      },
      "execution_count": 56,
      "outputs": [
        {
          "output_type": "stream",
          "name": "stdout",
          "text": [
            "740.0000000000081\n"
          ]
        },
        {
          "output_type": "execute_result",
          "data": {
            "text/plain": [
              "False"
            ]
          },
          "metadata": {},
          "execution_count": 56
        }
      ]
    }
  ]
}