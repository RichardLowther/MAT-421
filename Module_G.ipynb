{
  "nbformat": 4,
  "nbformat_minor": 0,
  "metadata": {
    "colab": {
      "provenance": [],
      "authorship_tag": "ABX9TyPXdA/4CnZV5r78vP60wrar",
      "include_colab_link": true
    },
    "kernelspec": {
      "name": "python3",
      "display_name": "Python 3"
    },
    "language_info": {
      "name": "python"
    }
  },
  "cells": [
    {
      "cell_type": "markdown",
      "metadata": {
        "id": "view-in-github",
        "colab_type": "text"
      },
      "source": [
        "<a href=\"https://colab.research.google.com/github/RichardLowther/MAT-421/blob/main/Module_G.ipynb\" target=\"_parent\"><img src=\"https://colab.research.google.com/assets/colab-badge.svg\" alt=\"Open In Colab\"/></a>"
      ]
    },
    {
      "cell_type": "markdown",
      "source": [
        "Richard Lowther\n",
        "\n",
        "MAT 421 HW 8\n",
        "\n",
        "Chapter 21\n",
        "\n",
        "21.1 Numerical Integration Problem Statement"
      ],
      "metadata": {
        "id": "HDg3Ce75TlaT"
      }
    },
    {
      "cell_type": "code",
      "source": [
        "# We have a function f(x) that we want to find the area under the curve from a to b\n",
        "# We can approximate this by evalulating each section of n + 1 points with a spacing of h = ((a+b)/n)\n",
        "# x0 = a, xn = b\n",
        "# The smaller h is, the more accurate the numerical integration method is, characterized as O(h), O(h^2), etc."
      ],
      "metadata": {
        "id": "GbIWxN90ulZk"
      },
      "execution_count": null,
      "outputs": []
    },
    {
      "cell_type": "markdown",
      "source": [
        "21.2 Riemanns Integral"
      ],
      "metadata": {
        "id": "lRRwjk_SvLCI"
      }
    },
    {
      "cell_type": "code",
      "source": [
        "# Simplest integral approximation\n",
        "# Three ways: left, right, and midpoint\n",
        "# Depending on left or right, will make a rectangle at the height of the left/right point with the width of h (overall accuracy is O(h))\n",
        "# Midpoint will find the rectangle height of the rectangle at each subinterval to be the function value at the midpoint between xi and xi+1 (xi+xi+1)/2\n",
        "# Midpoint Rule is O(h^3)for one subinterval, and using similar arguments as for the Riemann Integral, is O(h^2) over the whole interval\n",
        "\n",
        "# Integrating cos(x) from 0 to pi with 11 evenly spaced points\n",
        "import numpy as np\n",
        "\n",
        "a = 0\n",
        "b = np.pi\n",
        "n = 11\n",
        "h = (b - a) / (n - 1)\n",
        "x = np.linspace(a, b, n)\n",
        "f = np.sin(x)\n",
        "\n",
        "I_riemannL = h * sum(f[:n-1])\n",
        "err_riemannL = 2 - I_riemannL\n",
        "\n",
        "I_riemannR = h * sum(f[1::])\n",
        "err_riemannR = 2 - I_riemannR\n",
        "\n",
        "I_mid = h * sum(np.sin((x[:n-1] \\\n",
        "        + x[1:])/2))\n",
        "err_mid = 2 - I_mid\n",
        "\n",
        "print(\"Integral of left hand riemann =\", I_riemannL)\n",
        "print(\"Error of left hand riemann =\", err_riemannL)\n",
        "\n",
        "print(\"Integral of right hand riemann =\", I_riemannR)\n",
        "print(\"Error of right hand riemann =\", err_riemannR)\n",
        "\n",
        "print(\"Integral of midpoint riemann =\", I_mid)\n",
        "print(\"Error of midpoint riemann =\", err_mid)"
      ],
      "metadata": {
        "colab": {
          "base_uri": "https://localhost:8080/"
        },
        "id": "YUx8XEmOvM8F",
        "outputId": "eb234e26-0971-41be-a4bc-40c4ed33f29b"
      },
      "execution_count": 11,
      "outputs": [
        {
          "output_type": "stream",
          "name": "stdout",
          "text": [
            "Integral of left hand riemann = 1.9835235375094546\n",
            "Error of left hand riemann = 0.01647646249054535\n",
            "Integral of right hand riemann = 1.9835235375094546\n",
            "Error of right hand riemann = 0.01647646249054535\n",
            "Integral of midpoint riemann = 2.0082484079079745\n",
            "Error of midpoint riemann = -0.008248407907974542\n"
          ]
        }
      ]
    },
    {
      "cell_type": "markdown",
      "source": [
        "21.3 Trapezoid Rule"
      ],
      "metadata": {
        "id": "-slUDUoo5WwH"
      }
    },
    {
      "cell_type": "code",
      "source": [
        "# At each section, take the value of h/2 * (f(xi)+f(xi+1))\n",
        "# Error is O(h^3) for a single subinterval and O(h^2) over the whole interval\n",
        "\n",
        "# Integrating sin(x) from 0 to pi with 11 evenly spaced points\n",
        "import numpy as np\n",
        "\n",
        "a = 0\n",
        "b = np.pi\n",
        "n = 11\n",
        "h = (b - a) / (n - 1)\n",
        "x = np.linspace(a, b, n)\n",
        "f = np.sin(x)\n",
        "\n",
        "I_trap = (h/2)*(f[0] + \\\n",
        "          2 * sum(f[1:n-1]) + f[n-1])\n",
        "err_trap = 2 - I_trap\n",
        "\n",
        "print(\"Integral of trapezoidal =\", I_trap)\n",
        "print(\"Error of trapezoidal =\", err_trap)"
      ],
      "metadata": {
        "colab": {
          "base_uri": "https://localhost:8080/"
        },
        "id": "07fQjm2Z5aNv",
        "outputId": "52c3d285-e5a5-4c85-8f46-39c1c5dc4e04"
      },
      "execution_count": 13,
      "outputs": [
        {
          "output_type": "stream",
          "name": "stdout",
          "text": [
            "Integral of trapezoidal = 1.9835235375094546\n",
            "Error of trapezoidal = 0.01647646249054535\n"
          ]
        }
      ]
    }
  ]
}